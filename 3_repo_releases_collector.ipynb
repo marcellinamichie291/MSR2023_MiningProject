{
 "cells": [
  {
   "cell_type": "code",
   "execution_count": 1,
   "id": "8dfd440e-c301-4156-a463-07db8bd3827c",
   "metadata": {},
   "outputs": [
    {
     "name": "stdin",
     "output_type": "stream",
     "text": [
      "Enter access token: ········\n"
     ]
    }
   ],
   "source": [
    "from github import Github\n",
    "import getpass\n",
    "import time\n",
    "import pandas as pd\n",
    "import csv\n",
    "import langdetect\n",
    "import base64\n",
    "import os\n",
    "import json\n",
    "from datetime import datetime\n",
    "\n",
    "g = Github(getpass.getpass(\"Enter access token:\"), per_page=100)"
   ]
  },
  {
   "cell_type": "markdown",
   "id": "61b8c344-e3d3-4968-b0a7-b1140feedea7",
   "metadata": {},
   "source": [
    "Retrieves the release data (if there are any) for repositories with readme files. (This condition might be removed to collect releases of repositories without readme files.)"
   ]
  },
  {
   "cell_type": "code",
   "execution_count": 32,
   "id": "6937e868-2ee2-4bd4-a5c2-247c3d2d7241",
   "metadata": {},
   "outputs": [
    {
     "name": "stdout",
     "output_type": "stream",
     "text": [
      "Retrieving the releases for 1881 repositories in Java...\n",
      "358 repositories' releases were collected.\n",
      "Retrieving the releases for 2123 repositories in Python...\n",
      "1219 repositories' releases were collected.\n"
     ]
    }
   ],
   "source": [
    "languages = [\"Java\", \"Python\"]\n",
    "\n",
    "if not os.path.exists(\"releases\"):\n",
    "    os.makedirs(\"releases\")\n",
    "\n",
    "for language in languages:\n",
    "\n",
    "    candidate_repos = pd.read_csv(f\"candidate_repos_{language.lower()}.csv\", delimiter=\";\")\n",
    "    print(f\"Retrieving the releases for {candidate_repos.shape[0]} repositories in {language}...\")\n",
    "    \n",
    "    collected = 0\n",
    "    \n",
    "    for row_id, row in candidate_repos.iterrows():\n",
    "        readme_file = f\"readmes/{row.OWNER}_{row.NAME}_readme.md\"\n",
    "        release_file = f\"releases/{row.OWNER}_{row.NAME}_releases.jsonl\"\n",
    "        if not os.path.exists(readme_file) or os.path.exists(release_file):\n",
    "            continue\n",
    "            \n",
    "        repo = g.get_repo(f\"{row.OWNER}/{row.NAME}\")\n",
    "        time.sleep(0.5)\n",
    "        try:\n",
    "            releases = repo.get_releases()\n",
    "            \n",
    "            if releases.totalCount < 1:\n",
    "                continue\n",
    "            \n",
    "            with open(release_file, \"w\", encoding=\"utf-8\") as file:\n",
    "                for release in releases:\n",
    "                    file.write(json.dumps(release.raw_data) + \"\\n\")\n",
    "                    time.sleep(1)\n",
    "                    \n",
    "            collected += 1\n",
    "        except Exception as e:\n",
    "            print(f\"{row.OWNER}/{row.NAME}: {e}\")\n",
    "            if os.path.exists(release_file):\n",
    "                os.remove(release_file) \n",
    "            continue\n",
    "                \n",
    "    print(f\"{collected} repositories' releases were collected.\")"
   ]
  }
 ],
 "metadata": {
  "kernelspec": {
   "display_name": "Python 3 (ipykernel)",
   "language": "python",
   "name": "python3"
  },
  "language_info": {
   "codemirror_mode": {
    "name": "ipython",
    "version": 3
   },
   "file_extension": ".py",
   "mimetype": "text/x-python",
   "name": "python",
   "nbconvert_exporter": "python",
   "pygments_lexer": "ipython3",
   "version": "3.10.7"
  }
 },
 "nbformat": 4,
 "nbformat_minor": 5
}
