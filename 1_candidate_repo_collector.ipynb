{
 "cells": [
  {
   "cell_type": "code",
   "execution_count": null,
   "id": "6e953053-5104-454f-836c-1545f1769d15",
   "metadata": {},
   "outputs": [],
   "source": [
    "from github import Github\n",
    "import getpass\n",
    "import time\n",
    "from datetime import datetime\n",
    "from dateutil.relativedelta import relativedelta\n",
    "import langdetect\n",
    "\n",
    "g = Github(getpass.getpass(\"Enter access token:\"), per_page=100)"
   ]
  },
  {
   "cell_type": "markdown",
   "id": "60ba1b9d-37c8-41ad-948e-8e0b6872a5ce",
   "metadata": {},
   "source": [
    "Retrieves repositories based on language, minimum star count, and keyword in description. Saves them in a CSV file."
   ]
  },
  {
   "cell_type": "code",
   "execution_count": null,
   "id": "9673f6ce-c670-4b10-bc63-2e8e17b5d497",
   "metadata": {},
   "outputs": [],
   "source": [
    "languages = [\"Java\", \"Python\"]\n",
    "min_stars = 100\n",
    "keywords = \"library\"\n",
    "\n",
    "for language in languages:\n",
    "    print(f\"Searching for repositories in {language}...\")\n",
    "    candidates_file = f\"candidate_repos_{language.lower()}.csv\"\n",
    "    readmes_file = f\"repo_readmes_{language.lower()}.csv\"\n",
    "    query = f\"stars:>={min_stars} language:{language} in:description {keywords}\"\n",
    "\n",
    "    start_date = datetime.strptime(\"2010-01-01\", \"%Y-%m-%d\")\n",
    "    end_date = datetime.strptime(\"2015-01-01\", \"%Y-%m-%d\")\n",
    "    years_interval = 3\n",
    "\n",
    "    collected = 0\n",
    "    import csv\n",
    "    with open(candidates_file, \"w\", newline=\"\", encoding=\"UTF-8\") as csv_file:\n",
    "        csv_writer = csv.writer(csv_file, delimiter=\";\", quotechar='\"', quoting=csv.QUOTE_MINIMAL)\n",
    "        csv_writer.writerow([\"ID\", \"OWNER\", \"NAME\", \"URL\", \"DESC\", \"DESC_LANG\", \"CREATED\", \"LAST_UPDATED\", \"TOPICS\", \"STARS\", \"SEARCH_LANGUAGE\", \"REPO_LANGUAGES\"])\n",
    "        while start_date < end_date and start_date < datetime.now():\n",
    "            start_date_str = start_date.strftime(\"%Y-%m-%d\")\n",
    "            end_date_str = end_date.strftime(\"%Y-%m-%d\")\n",
    "            interval_repos = g.search_repositories(f\"{query} created:{start_date_str}..{end_date_str}\")\n",
    "            interval_repos_count = interval_repos.totalCount\n",
    "            print(f\"{interval_repos_count} repositories are found between {start_date_str} and {end_date_str}.\")\n",
    "            if interval_repos_count >= 1000: # Too many results, need to narrow the interval down\n",
    "                years_interval = max(1, years_interval // 2)\n",
    "                end_date -= relativedelta(years=years_interval)\n",
    "                print(\"Narrowing down the search interval...\")\n",
    "            else:\n",
    "                print(f\"Collecting repositories between {start_date_str} and {end_date_str}...\")\n",
    "                for repo in interval_repos:\n",
    "                    owner, name = repo.full_name.split(\"/\", 1)\n",
    "                    desc_lang = langdetect.detect(repo.description)\n",
    "                    topics = \",\".join(repo.get_topics())\n",
    "                    csv_writer.writerow([repo.id, owner, name, repo.html_url, repo.description, desc_lang, repo.created_at, \n",
    "                                         repo.updated_at, topics, repo.stargazers_count, language, repo.get_languages()])\n",
    "                    time.sleep(1) # an alternative would be checking the remaining requests count and adapt accordingly\n",
    "                    \n",
    "                collected += interval_repos_count\n",
    "                start_date = end_date + relativedelta(days=1)\n",
    "                end_date += relativedelta(years=years_interval)\n",
    "                years_interval *= 2\n",
    "\n",
    "    print(f\"{collected} repositories were collected for {language}.\")\n",
    "    time.sleep(60)"
   ]
  },
  {
   "cell_type": "code",
   "execution_count": null,
   "id": "6bf430dc-8089-493d-a243-d957a714adf3",
   "metadata": {},
   "outputs": [],
   "source": [
    "# !jupyter nbconvert --to script 1_candidate_repo_collector.ipynb # converts to .py file"
   ]
  }
 ],
 "metadata": {
  "kernelspec": {
   "display_name": "Python 3 (ipykernel)",
   "language": "python",
   "name": "python3"
  },
  "language_info": {
   "codemirror_mode": {
    "name": "ipython",
    "version": 3
   },
   "file_extension": ".py",
   "mimetype": "text/x-python",
   "name": "python",
   "nbconvert_exporter": "python",
   "pygments_lexer": "ipython3",
   "version": "3.10.7"
  }
 },
 "nbformat": 4,
 "nbformat_minor": 5
}
